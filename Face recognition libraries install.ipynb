{
 "cells": [
  {
   "cell_type": "code",
   "execution_count": 2,
   "id": "884f8637",
   "metadata": {},
   "outputs": [
    {
     "name": "stdout",
     "output_type": "stream",
     "text": [
      "Requirement already satisfied: opencv-python in c:\\users\\pothi\\anaconda3\\lib\\site-packages (4.7.0.72)\n",
      "Requirement already satisfied: numpy>=1.17.3 in c:\\users\\pothi\\anaconda3\\lib\\site-packages (from opencv-python) (1.21.5)\n"
     ]
    }
   ],
   "source": [
    "! pip install opencv-python "
   ]
  },
  {
   "cell_type": "code",
   "execution_count": 3,
   "id": "60fcef29",
   "metadata": {},
   "outputs": [],
   "source": [
    "import cv2"
   ]
  },
  {
   "cell_type": "code",
   "execution_count": 4,
   "id": "1c844958",
   "metadata": {},
   "outputs": [
    {
     "name": "stdout",
     "output_type": "stream",
     "text": [
      "Microsoft Windows [Version 10.0.22624.1680]\n",
      "(c) Microsoft Corporation. All rights reserved.\n",
      "\n",
      "C:\\Users\\pothi>where python\n",
      "C:\\Users\\pothi\\anaconda3\\python.exe\n",
      "C:\\Users\\pothi\\AppData\\Local\\Microsoft\\WindowsApps\\python.exe\n",
      "\n",
      "C:\\Users\\pothi>"
     ]
    }
   ],
   "source": [
    "%%cmd\n",
    "where python"
   ]
  },
  {
   "cell_type": "code",
   "execution_count": 6,
   "id": "99440b7b",
   "metadata": {},
   "outputs": [
    {
     "name": "stdout",
     "output_type": "stream",
     "text": [
      "Microsoft Windows [Version 10.0.22624.1680]\n",
      "(c) Microsoft Corporation. All rights reserved.\n",
      "\n",
      "C:\\Users\\pothi>pip install face-recognition\n",
      "Collecting face-recognition\n",
      "  Downloading face_recognition-1.3.0-py2.py3-none-any.whl (15 kB)\n",
      "Collecting face-recognition-models>=0.3.0\n",
      "  Downloading face_recognition_models-0.3.0.tar.gz (100.1 MB)\n",
      "Requirement already satisfied: Pillow in c:\\users\\pothi\\anaconda3\\lib\\site-packages (from face-recognition) (9.0.1)\n",
      "Requirement already satisfied: numpy in c:\\users\\pothi\\anaconda3\\lib\\site-packages (from face-recognition) (1.21.5)\n",
      "Requirement already satisfied: Click>=6.0 in c:\\users\\pothi\\anaconda3\\lib\\site-packages (from face-recognition) (8.0.4)\n",
      "Collecting dlib>=19.7\n",
      "  Downloading dlib-19.24.1.tar.gz (3.2 MB)\n",
      "Requirement already satisfied: colorama in c:\\users\\pothi\\anaconda3\\lib\\site-packages (from Click>=6.0->face-recognition) (0.4.4)\n",
      "Building wheels for collected packages: dlib, face-recognition-models\n",
      "  Building wheel for dlib (setup.py): started\n",
      "  Building wheel for dlib (setup.py): finished with status 'error'\n"
     ]
    },
    {
     "name": "stderr",
     "output_type": "stream",
     "text": [
      "  ERROR: Command errored out with exit status 1:\n",
      "   command: 'C:\\Users\\pothi\\anaconda3\\python.exe' -u -c 'import io, os, sys, setuptools, tokenize; sys.argv[0] = '\"'\"'C:\\\\Users\\\\pothi\\\\AppData\\\\Local\\\\Temp\\\\pip-install-7pufmm27\\\\dlib_848437d284c34a4fa76b5b0c0b5a22f2\\\\setup.py'\"'\"'; __file__='\"'\"'C:\\\\Users\\\\pothi\\\\AppData\\\\Local\\\\Temp\\\\pip-install-7pufmm27\\\\dlib_848437d284c34a4fa76b5b0c0b5a22f2\\\\setup.py'\"'\"';f = getattr(tokenize, '\"'\"'open'\"'\"', open)(__file__) if os.path.exists(__file__) else io.StringIO('\"'\"'from setuptools import setup; setup()'\"'\"');code = f.read().replace('\"'\"'\\r\\n'\"'\"', '\"'\"'\\n'\"'\"');f.close();exec(compile(code, __file__, '\"'\"'exec'\"'\"'))' bdist_wheel -d 'C:\\Users\\pothi\\AppData\\Local\\Temp\\pip-wheel-98qz1bnk'\n",
      "       cwd: C:\\Users\\pothi\\AppData\\Local\\Temp\\pip-install-7pufmm27\\dlib_848437d284c34a4fa76b5b0c0b5a22f2\\\n",
      "  Complete output (8 lines):\n",
      "  running bdist_wheel\n",
      "  running build\n",
      "  running build_py\n",
      "  package init file 'tools\\python\\dlib\\__init__.py' not found (or not a regular file)\n",
      "  running build_ext\n",
      "  \n",
      "  ERROR: CMake must be installed to build dlib\n",
      "  \n",
      "  ----------------------------------------\n",
      "  ERROR: Failed building wheel for dlib\n"
     ]
    },
    {
     "name": "stdout",
     "output_type": "stream",
     "text": [
      "  Running setup.py clean for dlib\n",
      "  Building wheel for face-recognition-models (setup.py): started\n",
      "  Building wheel for face-recognition-models (setup.py): finished with status 'done'\n",
      "  Created wheel for face-recognition-models: filename=face_recognition_models-0.3.0-py2.py3-none-any.whl size=100566186 sha256=9ecadf534171045512864028d3918d7d289e14caaf8be8004153169c2556bc8b\n",
      "  Stored in directory: c:\\users\\pothi\\appdata\\local\\pip\\cache\\wheels\\22\\a8\\60\\4a2aeb763d63f50190f4c4e07069a22245347eeafdb3a67551\n",
      "Successfully built face-recognition-models\n",
      "Failed to build dlib\n",
      "Installing collected packages: face-recognition-models, dlib, face-recognition\n",
      "    Running setup.py install for dlib: started\n",
      "    Running setup.py install for dlib: finished with status 'error'\n"
     ]
    },
    {
     "name": "stderr",
     "output_type": "stream",
     "text": [
      "    ERROR: Command errored out with exit status 1:\n",
      "     command: 'C:\\Users\\pothi\\anaconda3\\python.exe' -u -c 'import io, os, sys, setuptools, tokenize; sys.argv[0] = '\"'\"'C:\\\\Users\\\\pothi\\\\AppData\\\\Local\\\\Temp\\\\pip-install-7pufmm27\\\\dlib_848437d284c34a4fa76b5b0c0b5a22f2\\\\setup.py'\"'\"'; __file__='\"'\"'C:\\\\Users\\\\pothi\\\\AppData\\\\Local\\\\Temp\\\\pip-install-7pufmm27\\\\dlib_848437d284c34a4fa76b5b0c0b5a22f2\\\\setup.py'\"'\"';f = getattr(tokenize, '\"'\"'open'\"'\"', open)(__file__) if os.path.exists(__file__) else io.StringIO('\"'\"'from setuptools import setup; setup()'\"'\"');code = f.read().replace('\"'\"'\\r\\n'\"'\"', '\"'\"'\\n'\"'\"');f.close();exec(compile(code, __file__, '\"'\"'exec'\"'\"'))' install --record 'C:\\Users\\pothi\\AppData\\Local\\Temp\\pip-record-bjt0d0qa\\install-record.txt' --single-version-externally-managed --compile --install-headers 'C:\\Users\\pothi\\anaconda3\\Include\\dlib'\n",
      "         cwd: C:\\Users\\pothi\\AppData\\Local\\Temp\\pip-install-7pufmm27\\dlib_848437d284c34a4fa76b5b0c0b5a22f2\\\n",
      "    Complete output (10 lines):\n",
      "    running install\n",
      "    C:\\Users\\pothi\\anaconda3\\lib\\site-packages\\setuptools\\command\\install.py:34: SetuptoolsDeprecationWarning: setup.py install is deprecated. Use build and pip and other standards-based tools.\n",
      "      warnings.warn(\n",
      "    running build\n",
      "    running build_py\n",
      "    package init file 'tools\\python\\dlib\\__init__.py' not found (or not a regular file)\n",
      "    running build_ext\n",
      "    \n",
      "    ERROR: CMake must be installed to build dlib\n",
      "    \n",
      "    ----------------------------------------\n",
      "ERROR: Command errored out with exit status 1: 'C:\\Users\\pothi\\anaconda3\\python.exe' -u -c 'import io, os, sys, setuptools, tokenize; sys.argv[0] = '\"'\"'C:\\\\Users\\\\pothi\\\\AppData\\\\Local\\\\Temp\\\\pip-install-7pufmm27\\\\dlib_848437d284c34a4fa76b5b0c0b5a22f2\\\\setup.py'\"'\"'; __file__='\"'\"'C:\\\\Users\\\\pothi\\\\AppData\\\\Local\\\\Temp\\\\pip-install-7pufmm27\\\\dlib_848437d284c34a4fa76b5b0c0b5a22f2\\\\setup.py'\"'\"';f = getattr(tokenize, '\"'\"'open'\"'\"', open)(__file__) if os.path.exists(__file__) else io.StringIO('\"'\"'from setuptools import setup; setup()'\"'\"');code = f.read().replace('\"'\"'\\r\\n'\"'\"', '\"'\"'\\n'\"'\"');f.close();exec(compile(code, __file__, '\"'\"'exec'\"'\"'))' install --record 'C:\\Users\\pothi\\AppData\\Local\\Temp\\pip-record-bjt0d0qa\\install-record.txt' --single-version-externally-managed --compile --install-headers 'C:\\Users\\pothi\\anaconda3\\Include\\dlib' Check the logs for full command output.\n"
     ]
    },
    {
     "name": "stdout",
     "output_type": "stream",
     "text": [
      "\n",
      "C:\\Users\\pothi>"
     ]
    }
   ],
   "source": [
    "%%cmd\n",
    "pip install face-recognition"
   ]
  },
  {
   "cell_type": "code",
   "execution_count": 7,
   "id": "2ddc9bfb",
   "metadata": {},
   "outputs": [
    {
     "name": "stdout",
     "output_type": "stream",
     "text": [
      "Microsoft Windows [Version 10.0.22624.1680]\n",
      "(c) Microsoft Corporation. All rights reserved.\n",
      "\n",
      "C:\\Users\\pothi>pip install cmake\n",
      "Collecting cmake\n",
      "  Downloading cmake-3.26.3-py2.py3-none-win_amd64.whl (33.0 MB)\n",
      "Installing collected packages: cmake\n",
      "Successfully installed cmake-3.26.3\n",
      "\n",
      "C:\\Users\\pothi>"
     ]
    }
   ],
   "source": [
    "%%cmd\n",
    "pip install cmake"
   ]
  },
  {
   "cell_type": "code",
   "execution_count": 8,
   "id": "607b72b8",
   "metadata": {},
   "outputs": [
    {
     "name": "stdout",
     "output_type": "stream",
     "text": [
      "Microsoft Windows [Version 10.0.22624.1680]\n",
      "(c) Microsoft Corporation. All rights reserved.\n",
      "\n",
      "C:\\Users\\pothi>pip install dlib\n",
      "Collecting dlib\n",
      "  Using cached dlib-19.24.1.tar.gz (3.2 MB)\n",
      "Building wheels for collected packages: dlib\n",
      "  Building wheel for dlib (setup.py): started\n",
      "  Building wheel for dlib (setup.py): finished with status 'error'\n"
     ]
    },
    {
     "name": "stderr",
     "output_type": "stream",
     "text": [
      "  ERROR: Command errored out with exit status 1:\n",
      "   command: 'C:\\Users\\pothi\\anaconda3\\python.exe' -u -c 'import io, os, sys, setuptools, tokenize; sys.argv[0] = '\"'\"'C:\\\\Users\\\\pothi\\\\AppData\\\\Local\\\\Temp\\\\pip-install-w4hb45zx\\\\dlib_3262481317ad4aca94cd1597f3c71e9c\\\\setup.py'\"'\"'; __file__='\"'\"'C:\\\\Users\\\\pothi\\\\AppData\\\\Local\\\\Temp\\\\pip-install-w4hb45zx\\\\dlib_3262481317ad4aca94cd1597f3c71e9c\\\\setup.py'\"'\"';f = getattr(tokenize, '\"'\"'open'\"'\"', open)(__file__) if os.path.exists(__file__) else io.StringIO('\"'\"'from setuptools import setup; setup()'\"'\"');code = f.read().replace('\"'\"'\\r\\n'\"'\"', '\"'\"'\\n'\"'\"');f.close();exec(compile(code, __file__, '\"'\"'exec'\"'\"'))' bdist_wheel -d 'C:\\Users\\pothi\\AppData\\Local\\Temp\\pip-wheel-835qb_hg'\n",
      "       cwd: C:\\Users\\pothi\\AppData\\Local\\Temp\\pip-install-w4hb45zx\\dlib_3262481317ad4aca94cd1597f3c71e9c\\\n",
      "  Complete output (68 lines):\n",
      "  running bdist_wheel\n",
      "  running build\n",
      "  running build_py\n",
      "  package init file 'tools\\python\\dlib\\__init__.py' not found (or not a regular file)\n",
      "  running build_ext\n",
      "  C:\\Users\\pothi\\AppData\\Local\\Temp\\pip-install-w4hb45zx\\dlib_3262481317ad4aca94cd1597f3c71e9c\\setup.py:129: DeprecationWarning: distutils Version classes are deprecated. Use packaging.version instead.\n",
      "    if LooseVersion(cmake_version) < '3.1.0':\n",
      "  Building extension for Python 3.9.12 (main, Apr  4 2022, 05:22:27) [MSC v.1916 64 bit (AMD64)]\n",
      "  Invoking CMake setup: 'cmake C:\\Users\\pothi\\AppData\\Local\\Temp\\pip-install-w4hb45zx\\dlib_3262481317ad4aca94cd1597f3c71e9c\\tools\\python -DCMAKE_LIBRARY_OUTPUT_DIRECTORY=C:\\Users\\pothi\\AppData\\Local\\Temp\\pip-install-w4hb45zx\\dlib_3262481317ad4aca94cd1597f3c71e9c\\build\\lib.win-amd64-3.9 -DPYTHON_EXECUTABLE=C:\\Users\\pothi\\anaconda3\\python.exe -DCMAKE_LIBRARY_OUTPUT_DIRECTORY_RELEASE=C:\\Users\\pothi\\AppData\\Local\\Temp\\pip-install-w4hb45zx\\dlib_3262481317ad4aca94cd1597f3c71e9c\\build\\lib.win-amd64-3.9 -A x64'\n",
      "  -- Building for: NMake Makefiles\n",
      "  CMake Error at CMakeLists.txt:5 (message):\n",
      "  \n",
      "  \n",
      "  \n",
      "    !!!!!!!!!!!!!!!!!!!!!!!!!!!!!!!!!!!!!!!!!!!!!!!!!!!!!!!!!!!!!!!!!!!!!!!!!!!!!!!\n",
      "  \n",
      "  \n",
      "    You must use Visual Studio to build a python extension on windows.  If you\n",
      "    are getting this error it means you have not installed Visual C++.  Note\n",
      "    that there are many flavors of Visual Studio, like Visual Studio for C#\n",
      "    development.  You need to install Visual Studio for C++.\n",
      "  \n",
      "  \n",
      "    !!!!!!!!!!!!!!!!!!!!!!!!!!!!!!!!!!!!!!!!!!!!!!!!!!!!!!!!!!!!!!!!!!!!!!!!!!!!!!!\n",
      "  \n",
      "  \n",
      "  \n",
      "  \n",
      "  -- Configuring incomplete, errors occurred!\n",
      "  Traceback (most recent call last):\n",
      "    File \"<string>\", line 1, in <module>\n",
      "    File \"C:\\Users\\pothi\\AppData\\Local\\Temp\\pip-install-w4hb45zx\\dlib_3262481317ad4aca94cd1597f3c71e9c\\setup.py\", line 222, in <module>\n",
      "      setup(\n",
      "    File \"C:\\Users\\pothi\\anaconda3\\lib\\site-packages\\setuptools\\__init__.py\", line 87, in setup\n",
      "      return distutils.core.setup(**attrs)\n",
      "    File \"C:\\Users\\pothi\\anaconda3\\lib\\site-packages\\setuptools\\_distutils\\core.py\", line 148, in setup\n",
      "      return run_commands(dist)\n",
      "    File \"C:\\Users\\pothi\\anaconda3\\lib\\site-packages\\setuptools\\_distutils\\core.py\", line 163, in run_commands\n",
      "      dist.run_commands()\n",
      "    File \"C:\\Users\\pothi\\anaconda3\\lib\\site-packages\\setuptools\\_distutils\\dist.py\", line 967, in run_commands\n",
      "      self.run_command(cmd)\n",
      "    File \"C:\\Users\\pothi\\anaconda3\\lib\\site-packages\\setuptools\\dist.py\", line 1214, in run_command\n",
      "      super().run_command(command)\n",
      "    File \"C:\\Users\\pothi\\anaconda3\\lib\\site-packages\\setuptools\\_distutils\\dist.py\", line 986, in run_command\n",
      "      cmd_obj.run()\n",
      "    File \"C:\\Users\\pothi\\anaconda3\\lib\\site-packages\\wheel\\bdist_wheel.py\", line 299, in run\n",
      "      self.run_command('build')\n",
      "    File \"C:\\Users\\pothi\\anaconda3\\lib\\site-packages\\setuptools\\_distutils\\cmd.py\", line 313, in run_command\n",
      "      self.distribution.run_command(command)\n",
      "    File \"C:\\Users\\pothi\\anaconda3\\lib\\site-packages\\setuptools\\dist.py\", line 1214, in run_command\n",
      "      super().run_command(command)\n",
      "    File \"C:\\Users\\pothi\\anaconda3\\lib\\site-packages\\setuptools\\_distutils\\dist.py\", line 986, in run_command\n",
      "      cmd_obj.run()\n",
      "    File \"C:\\Users\\pothi\\anaconda3\\lib\\site-packages\\setuptools\\_distutils\\command\\build.py\", line 135, in run\n",
      "      self.run_command(cmd_name)\n",
      "    File \"C:\\Users\\pothi\\anaconda3\\lib\\site-packages\\setuptools\\_distutils\\cmd.py\", line 313, in run_command\n",
      "      self.distribution.run_command(command)\n",
      "    File \"C:\\Users\\pothi\\anaconda3\\lib\\site-packages\\setuptools\\dist.py\", line 1214, in run_command\n",
      "      super().run_command(command)\n",
      "    File \"C:\\Users\\pothi\\anaconda3\\lib\\site-packages\\setuptools\\_distutils\\dist.py\", line 986, in run_command\n",
      "      cmd_obj.run()\n",
      "    File \"C:\\Users\\pothi\\AppData\\Local\\Temp\\pip-install-w4hb45zx\\dlib_3262481317ad4aca94cd1597f3c71e9c\\setup.py\", line 134, in run\n",
      "      self.build_extension(ext)\n",
      "    File \"C:\\Users\\pothi\\AppData\\Local\\Temp\\pip-install-w4hb45zx\\dlib_3262481317ad4aca94cd1597f3c71e9c\\setup.py\", line 171, in build_extension\n",
      "      subprocess.check_call(cmake_setup, cwd=build_folder)\n",
      "    File \"C:\\Users\\pothi\\anaconda3\\lib\\subprocess.py\", line 373, in check_call\n",
      "      raise CalledProcessError(retcode, cmd)\n",
      "  subprocess.CalledProcessError: Command '['cmake', 'C:\\\\Users\\\\pothi\\\\AppData\\\\Local\\\\Temp\\\\pip-install-w4hb45zx\\\\dlib_3262481317ad4aca94cd1597f3c71e9c\\\\tools\\\\python', '-DCMAKE_LIBRARY_OUTPUT_DIRECTORY=C:\\\\Users\\\\pothi\\\\AppData\\\\Local\\\\Temp\\\\pip-install-w4hb45zx\\\\dlib_3262481317ad4aca94cd1597f3c71e9c\\\\build\\\\lib.win-amd64-3.9', '-DPYTHON_EXECUTABLE=C:\\\\Users\\\\pothi\\\\anaconda3\\\\python.exe', '-DCMAKE_LIBRARY_OUTPUT_DIRECTORY_RELEASE=C:\\\\Users\\\\pothi\\\\AppData\\\\Local\\\\Temp\\\\pip-install-w4hb45zx\\\\dlib_3262481317ad4aca94cd1597f3c71e9c\\\\build\\\\lib.win-amd64-3.9', '-A', 'x64']' returned non-zero exit status 1.\n",
      "  ----------------------------------------\n",
      "  ERROR: Failed building wheel for dlib\n"
     ]
    },
    {
     "name": "stdout",
     "output_type": "stream",
     "text": [
      "  Running setup.py clean for dlib\n",
      "Failed to build dlib\n",
      "Installing collected packages: dlib\n",
      "    Running setup.py install for dlib: started\n",
      "    Running setup.py install for dlib: finished with status 'error'\n"
     ]
    },
    {
     "name": "stderr",
     "output_type": "stream",
     "text": [
      "    ERROR: Command errored out with exit status 1:\n",
      "     command: 'C:\\Users\\pothi\\anaconda3\\python.exe' -u -c 'import io, os, sys, setuptools, tokenize; sys.argv[0] = '\"'\"'C:\\\\Users\\\\pothi\\\\AppData\\\\Local\\\\Temp\\\\pip-install-w4hb45zx\\\\dlib_3262481317ad4aca94cd1597f3c71e9c\\\\setup.py'\"'\"'; __file__='\"'\"'C:\\\\Users\\\\pothi\\\\AppData\\\\Local\\\\Temp\\\\pip-install-w4hb45zx\\\\dlib_3262481317ad4aca94cd1597f3c71e9c\\\\setup.py'\"'\"';f = getattr(tokenize, '\"'\"'open'\"'\"', open)(__file__) if os.path.exists(__file__) else io.StringIO('\"'\"'from setuptools import setup; setup()'\"'\"');code = f.read().replace('\"'\"'\\r\\n'\"'\"', '\"'\"'\\n'\"'\"');f.close();exec(compile(code, __file__, '\"'\"'exec'\"'\"'))' install --record 'C:\\Users\\pothi\\AppData\\Local\\Temp\\pip-record-ebo81ha3\\install-record.txt' --single-version-externally-managed --compile --install-headers 'C:\\Users\\pothi\\anaconda3\\Include\\dlib'\n",
      "         cwd: C:\\Users\\pothi\\AppData\\Local\\Temp\\pip-install-w4hb45zx\\dlib_3262481317ad4aca94cd1597f3c71e9c\\\n",
      "    Complete output (72 lines):\n",
      "    running install\n",
      "    C:\\Users\\pothi\\anaconda3\\lib\\site-packages\\setuptools\\command\\install.py:34: SetuptoolsDeprecationWarning: setup.py install is deprecated. Use build and pip and other standards-based tools.\n",
      "      warnings.warn(\n",
      "    running build\n",
      "    running build_py\n",
      "    package init file 'tools\\python\\dlib\\__init__.py' not found (or not a regular file)\n",
      "    running build_ext\n",
      "    C:\\Users\\pothi\\AppData\\Local\\Temp\\pip-install-w4hb45zx\\dlib_3262481317ad4aca94cd1597f3c71e9c\\setup.py:129: DeprecationWarning: distutils Version classes are deprecated. Use packaging.version instead.\n",
      "      if LooseVersion(cmake_version) < '3.1.0':\n",
      "    Building extension for Python 3.9.12 (main, Apr  4 2022, 05:22:27) [MSC v.1916 64 bit (AMD64)]\n",
      "    Invoking CMake setup: 'cmake C:\\Users\\pothi\\AppData\\Local\\Temp\\pip-install-w4hb45zx\\dlib_3262481317ad4aca94cd1597f3c71e9c\\tools\\python -DCMAKE_LIBRARY_OUTPUT_DIRECTORY=C:\\Users\\pothi\\AppData\\Local\\Temp\\pip-install-w4hb45zx\\dlib_3262481317ad4aca94cd1597f3c71e9c\\build\\lib.win-amd64-3.9 -DPYTHON_EXECUTABLE=C:\\Users\\pothi\\anaconda3\\python.exe -DCMAKE_LIBRARY_OUTPUT_DIRECTORY_RELEASE=C:\\Users\\pothi\\AppData\\Local\\Temp\\pip-install-w4hb45zx\\dlib_3262481317ad4aca94cd1597f3c71e9c\\build\\lib.win-amd64-3.9 -A x64'\n",
      "    -- Building for: NMake Makefiles\n",
      "    CMake Error at CMakeLists.txt:5 (message):\n",
      "    \n",
      "    \n",
      "    \n",
      "      !!!!!!!!!!!!!!!!!!!!!!!!!!!!!!!!!!!!!!!!!!!!!!!!!!!!!!!!!!!!!!!!!!!!!!!!!!!!!!!\n",
      "    \n",
      "    \n",
      "      You must use Visual Studio to build a python extension on windows.  If you\n",
      "      are getting this error it means you have not installed Visual C++.  Note\n",
      "      that there are many flavors of Visual Studio, like Visual Studio for C#\n",
      "      development.  You need to install Visual Studio for C++.\n",
      "    \n",
      "    \n",
      "      !!!!!!!!!!!!!!!!!!!!!!!!!!!!!!!!!!!!!!!!!!!!!!!!!!!!!!!!!!!!!!!!!!!!!!!!!!!!!!!\n",
      "    \n",
      "    \n",
      "    \n",
      "    \n",
      "    -- Configuring incomplete, errors occurred!\n",
      "    Traceback (most recent call last):\n",
      "      File \"<string>\", line 1, in <module>\n",
      "      File \"C:\\Users\\pothi\\AppData\\Local\\Temp\\pip-install-w4hb45zx\\dlib_3262481317ad4aca94cd1597f3c71e9c\\setup.py\", line 222, in <module>\n",
      "        setup(\n",
      "      File \"C:\\Users\\pothi\\anaconda3\\lib\\site-packages\\setuptools\\__init__.py\", line 87, in setup\n",
      "        return distutils.core.setup(**attrs)\n",
      "      File \"C:\\Users\\pothi\\anaconda3\\lib\\site-packages\\setuptools\\_distutils\\core.py\", line 148, in setup\n",
      "        return run_commands(dist)\n",
      "      File \"C:\\Users\\pothi\\anaconda3\\lib\\site-packages\\setuptools\\_distutils\\core.py\", line 163, in run_commands\n",
      "        dist.run_commands()\n",
      "      File \"C:\\Users\\pothi\\anaconda3\\lib\\site-packages\\setuptools\\_distutils\\dist.py\", line 967, in run_commands\n",
      "        self.run_command(cmd)\n",
      "      File \"C:\\Users\\pothi\\anaconda3\\lib\\site-packages\\setuptools\\dist.py\", line 1214, in run_command\n",
      "        super().run_command(command)\n",
      "      File \"C:\\Users\\pothi\\anaconda3\\lib\\site-packages\\setuptools\\_distutils\\dist.py\", line 986, in run_command\n",
      "        cmd_obj.run()\n",
      "      File \"C:\\Users\\pothi\\anaconda3\\lib\\site-packages\\setuptools\\command\\install.py\", line 68, in run\n",
      "        return orig.install.run(self)\n",
      "      File \"C:\\Users\\pothi\\anaconda3\\lib\\site-packages\\setuptools\\_distutils\\command\\install.py\", line 664, in run\n",
      "        self.run_command('build')\n",
      "      File \"C:\\Users\\pothi\\anaconda3\\lib\\site-packages\\setuptools\\_distutils\\cmd.py\", line 313, in run_command\n",
      "        self.distribution.run_command(command)\n",
      "      File \"C:\\Users\\pothi\\anaconda3\\lib\\site-packages\\setuptools\\dist.py\", line 1214, in run_command\n",
      "        super().run_command(command)\n",
      "      File \"C:\\Users\\pothi\\anaconda3\\lib\\site-packages\\setuptools\\_distutils\\dist.py\", line 986, in run_command\n",
      "        cmd_obj.run()\n",
      "      File \"C:\\Users\\pothi\\anaconda3\\lib\\site-packages\\setuptools\\_distutils\\command\\build.py\", line 135, in run\n",
      "        self.run_command(cmd_name)\n",
      "      File \"C:\\Users\\pothi\\anaconda3\\lib\\site-packages\\setuptools\\_distutils\\cmd.py\", line 313, in run_command\n",
      "        self.distribution.run_command(command)\n",
      "      File \"C:\\Users\\pothi\\anaconda3\\lib\\site-packages\\setuptools\\dist.py\", line 1214, in run_command\n",
      "        super().run_command(command)\n",
      "      File \"C:\\Users\\pothi\\anaconda3\\lib\\site-packages\\setuptools\\_distutils\\dist.py\", line 986, in run_command\n",
      "        cmd_obj.run()\n",
      "      File \"C:\\Users\\pothi\\AppData\\Local\\Temp\\pip-install-w4hb45zx\\dlib_3262481317ad4aca94cd1597f3c71e9c\\setup.py\", line 134, in run\n",
      "        self.build_extension(ext)\n",
      "      File \"C:\\Users\\pothi\\AppData\\Local\\Temp\\pip-install-w4hb45zx\\dlib_3262481317ad4aca94cd1597f3c71e9c\\setup.py\", line 171, in build_extension\n",
      "        subprocess.check_call(cmake_setup, cwd=build_folder)\n",
      "      File \"C:\\Users\\pothi\\anaconda3\\lib\\subprocess.py\", line 373, in check_call\n",
      "        raise CalledProcessError(retcode, cmd)\n",
      "    subprocess.CalledProcessError: Command '['cmake', 'C:\\\\Users\\\\pothi\\\\AppData\\\\Local\\\\Temp\\\\pip-install-w4hb45zx\\\\dlib_3262481317ad4aca94cd1597f3c71e9c\\\\tools\\\\python', '-DCMAKE_LIBRARY_OUTPUT_DIRECTORY=C:\\\\Users\\\\pothi\\\\AppData\\\\Local\\\\Temp\\\\pip-install-w4hb45zx\\\\dlib_3262481317ad4aca94cd1597f3c71e9c\\\\build\\\\lib.win-amd64-3.9', '-DPYTHON_EXECUTABLE=C:\\\\Users\\\\pothi\\\\anaconda3\\\\python.exe', '-DCMAKE_LIBRARY_OUTPUT_DIRECTORY_RELEASE=C:\\\\Users\\\\pothi\\\\AppData\\\\Local\\\\Temp\\\\pip-install-w4hb45zx\\\\dlib_3262481317ad4aca94cd1597f3c71e9c\\\\build\\\\lib.win-amd64-3.9', '-A', 'x64']' returned non-zero exit status 1.\n",
      "    ----------------------------------------\n",
      "ERROR: Command errored out with exit status 1: 'C:\\Users\\pothi\\anaconda3\\python.exe' -u -c 'import io, os, sys, setuptools, tokenize; sys.argv[0] = '\"'\"'C:\\\\Users\\\\pothi\\\\AppData\\\\Local\\\\Temp\\\\pip-install-w4hb45zx\\\\dlib_3262481317ad4aca94cd1597f3c71e9c\\\\setup.py'\"'\"'; __file__='\"'\"'C:\\\\Users\\\\pothi\\\\AppData\\\\Local\\\\Temp\\\\pip-install-w4hb45zx\\\\dlib_3262481317ad4aca94cd1597f3c71e9c\\\\setup.py'\"'\"';f = getattr(tokenize, '\"'\"'open'\"'\"', open)(__file__) if os.path.exists(__file__) else io.StringIO('\"'\"'from setuptools import setup; setup()'\"'\"');code = f.read().replace('\"'\"'\\r\\n'\"'\"', '\"'\"'\\n'\"'\"');f.close();exec(compile(code, __file__, '\"'\"'exec'\"'\"'))' install --record 'C:\\Users\\pothi\\AppData\\Local\\Temp\\pip-record-ebo81ha3\\install-record.txt' --single-version-externally-managed --compile --install-headers 'C:\\Users\\pothi\\anaconda3\\Include\\dlib' Check the logs for full command output.\n"
     ]
    },
    {
     "name": "stdout",
     "output_type": "stream",
     "text": [
      "\n",
      "C:\\Users\\pothi>"
     ]
    }
   ],
   "source": [
    "%%cmd\n",
    "pip install dlib"
   ]
  },
  {
   "cell_type": "code",
   "execution_count": 9,
   "id": "d14a495f",
   "metadata": {},
   "outputs": [
    {
     "name": "stdout",
     "output_type": "stream",
     "text": [
      "Microsoft Windows [Version 10.0.22624.1680]\n",
      "(c) Microsoft Corporation. All rights reserved.\n",
      "\n",
      "C:\\Users\\pothi>python --version\n",
      "Python 3.9.12\n",
      "\n",
      "C:\\Users\\pothi>"
     ]
    }
   ],
   "source": [
    "%%cmd\n",
    "python --version"
   ]
  },
  {
   "cell_type": "code",
   "execution_count": 10,
   "id": "016a182e",
   "metadata": {},
   "outputs": [
    {
     "name": "stdout",
     "output_type": "stream",
     "text": [
      "Microsoft Windows [Version 10.0.22624.1680]\n",
      "(c) Microsoft Corporation. All rights reserved.\n",
      "\n",
      "C:\\Users\\pothi>pip install \"C:\\Users\\pothi\\Downloads\\Dlib-python whl packages\\dlib-19.22.99-cp39-cp39-win_amd64\"\n"
     ]
    },
    {
     "name": "stderr",
     "output_type": "stream",
     "text": [
      "ERROR: Invalid requirement: 'C:\\\\Users\\\\pothi\\\\Downloads\\\\Dlib-python whl packages\\\\dlib-19.22.99-cp39-cp39-win_amd64'\n",
      "Hint: It looks like a path. File 'C:\\Users\\pothi\\Downloads\\Dlib-python whl packages\\dlib-19.22.99-cp39-cp39-win_amd64' does not exist.\n"
     ]
    },
    {
     "name": "stdout",
     "output_type": "stream",
     "text": [
      "\n",
      "C:\\Users\\pothi>"
     ]
    }
   ],
   "source": [
    "%%cmd\n",
    "pip install \"C:\\Users\\pothi\\Downloads\\Dlib-python whl packages\\dlib-19.22.99-cp39-cp39-win_amd64\""
   ]
  },
  {
   "cell_type": "code",
   "execution_count": 11,
   "id": "c16b8c60",
   "metadata": {},
   "outputs": [
    {
     "name": "stdout",
     "output_type": "stream",
     "text": [
      "Microsoft Windows [Version 10.0.22624.1680]\n",
      "(c) Microsoft Corporation. All rights reserved.\n",
      "\n",
      "C:\\Users\\pothi>pip install \"C:\\Users\\pothi\\Downloads\\Dlib-python whl packages\\dlib-19.22.99-cp39-cp39-win_amd64.whl\"\n",
      "Processing c:\\users\\pothi\\downloads\\dlib-python whl packages\\dlib-19.22.99-cp39-cp39-win_amd64.whl\n",
      "Installing collected packages: dlib\n",
      "Successfully installed dlib-19.22.99\n",
      "\n",
      "C:\\Users\\pothi>"
     ]
    }
   ],
   "source": [
    "%%cmd\n",
    "pip install \"C:\\Users\\pothi\\Downloads\\Dlib-python whl packages\\dlib-19.22.99-cp39-cp39-win_amd64.whl\""
   ]
  },
  {
   "cell_type": "code",
   "execution_count": 12,
   "id": "bf310eab",
   "metadata": {},
   "outputs": [
    {
     "name": "stdout",
     "output_type": "stream",
     "text": [
      "Microsoft Windows [Version 10.0.22624.1680]\n",
      "(c) Microsoft Corporation. All rights reserved.\n",
      "\n",
      "C:\\Users\\pothi>pip install face-recognition\n",
      "Collecting face-recognition\n",
      "  Using cached face_recognition-1.3.0-py2.py3-none-any.whl (15 kB)\n",
      "Requirement already satisfied: dlib>=19.7 in c:\\users\\pothi\\anaconda3\\lib\\site-packages (from face-recognition) (19.22.99)\n",
      "Requirement already satisfied: Pillow in c:\\users\\pothi\\anaconda3\\lib\\site-packages (from face-recognition) (9.0.1)\n",
      "Requirement already satisfied: numpy in c:\\users\\pothi\\anaconda3\\lib\\site-packages (from face-recognition) (1.21.5)\n",
      "Requirement already satisfied: face-recognition-models>=0.3.0 in c:\\users\\pothi\\anaconda3\\lib\\site-packages (from face-recognition) (0.3.0)\n",
      "Requirement already satisfied: Click>=6.0 in c:\\users\\pothi\\anaconda3\\lib\\site-packages (from face-recognition) (8.0.4)\n",
      "Requirement already satisfied: colorama in c:\\users\\pothi\\anaconda3\\lib\\site-packages (from Click>=6.0->face-recognition) (0.4.4)\n",
      "Installing collected packages: face-recognition\n",
      "Successfully installed face-recognition-1.3.0\n",
      "\n",
      "C:\\Users\\pothi>"
     ]
    }
   ],
   "source": [
    "%%cmd\n",
    "pip install face-recognition"
   ]
  },
  {
   "cell_type": "code",
   "execution_count": 2,
   "id": "635304eb",
   "metadata": {},
   "outputs": [
    {
     "name": "stdout",
     "output_type": "stream",
     "text": [
      "Collecting deepface\n",
      "  Downloading deepface-0.0.79-py3-none-any.whl (49 kB)\n",
      "Requirement already satisfied: Flask>=1.1.2 in c:\\users\\pothi\\anaconda3\\lib\\site-packages (from deepface) (1.1.2)"
     ]
    },
    {
     "name": "stderr",
     "output_type": "stream",
     "text": [
      "ERROR: Exception:\n",
      "Traceback (most recent call last):\n",
      "  File \"C:\\Users\\pothi\\anaconda3\\lib\\site-packages\\pip\\_vendor\\urllib3\\response.py\", line 438, in _error_catcher\n",
      "    yield\n",
      "  File \"C:\\Users\\pothi\\anaconda3\\lib\\site-packages\\pip\\_vendor\\urllib3\\response.py\", line 519, in read\n",
      "    data = self._fp.read(amt) if not fp_closed else b\"\"\n",
      "  File \"C:\\Users\\pothi\\anaconda3\\lib\\site-packages\\pip\\_vendor\\cachecontrol\\filewrapper.py\", line 62, in read\n",
      "    data = self.__fp.read(amt)\n",
      "  File \"C:\\Users\\pothi\\anaconda3\\lib\\http\\client.py\", line 463, in read\n",
      "    n = self.readinto(b)\n",
      "  File \"C:\\Users\\pothi\\anaconda3\\lib\\http\\client.py\", line 507, in readinto\n",
      "    n = self.fp.readinto(b)\n",
      "  File \"C:\\Users\\pothi\\anaconda3\\lib\\socket.py\", line 704, in readinto\n",
      "    return self._sock.recv_into(b)\n",
      "  File \"C:\\Users\\pothi\\anaconda3\\lib\\ssl.py\", line 1241, in recv_into\n",
      "    return self.read(nbytes, buffer)\n",
      "  File \"C:\\Users\\pothi\\anaconda3\\lib\\ssl.py\", line 1099, in read\n",
      "    return self._sslobj.read(len, buffer)\n",
      "ConnectionResetError: [WinError 10054] An existing connection was forcibly closed by the remote host\n",
      "\n",
      "During handling of the above exception, another exception occurred:\n",
      "\n"
     ]
    },
    {
     "name": "stdout",
     "output_type": "stream",
     "text": [
      "\n",
      "Collecting fire>=0.4.0\n",
      "  Downloading fire-0.5.0.tar.gz (88 kB)\n",
      "Collecting keras>=2.2.0\n",
      "  Downloading keras-2.12.0-py2.py3-none-any.whl (1.7 MB)\n",
      "Requirement already satisfied: numpy>=1.14.0 in c:\\users\\pothi\\anaconda3\\lib\\site-packages (from deepface) (1.21.5)\n",
      "Requirement already satisfied: Pillow>=5.2.0 in c:\\users\\pothi\\anaconda3\\lib\\site-packages (from deepface) (9.0.1)\n",
      "Collecting mtcnn>=0.1.0\n",
      "  Downloading mtcnn-0.1.1-py3-none-any.whl (2.3 MB)\n",
      "Requirement already satisfied: tqdm>=4.30.0 in c:\\users\\pothi\\anaconda3\\lib\\site-packages (from deepface) (4.64.0)\n",
      "Collecting gunicorn>=20.1.0\n",
      "  Downloading gunicorn-20.1.0-py3-none-any.whl (79 kB)\n",
      "Collecting gdown>=3.10.1\n",
      "  Downloading gdown-4.7.1-py3-none-any.whl (15 kB)\n",
      "Collecting retina-face>=0.0.1\n",
      "  Downloading retina_face-0.0.13-py3-none-any.whl (16 kB)\n",
      "Requirement already satisfied: pandas>=0.23.4 in c:\\users\\pothi\\anaconda3\\lib\\site-packages (from deepface) (1.4.2)\n",
      "Requirement already satisfied: opencv-python>=4.5.5.64 in c:\\users\\pothi\\anaconda3\\lib\\site-packages (from deepface) (4.7.0.72)\n",
      "Collecting tensorflow>=1.9.0\n",
      "  Downloading tensorflow-2.12.0-cp39-cp39-win_amd64.whl (1.9 kB)\n",
      "Requirement already satisfied: six in c:\\users\\pothi\\anaconda3\\lib\\site-packages (from fire>=0.4.0->deepface) (1.16.0)\n",
      "Collecting termcolor\n",
      "  Downloading termcolor-2.3.0-py3-none-any.whl (6.9 kB)\n",
      "Requirement already satisfied: itsdangerous>=0.24 in c:\\users\\pothi\\anaconda3\\lib\\site-packages (from Flask>=1.1.2->deepface) (2.0.1)\n",
      "Requirement already satisfied: Jinja2>=2.10.1 in c:\\users\\pothi\\anaconda3\\lib\\site-packages (from Flask>=1.1.2->deepface) (2.11.3)\n",
      "Requirement already satisfied: Werkzeug>=0.15 in c:\\users\\pothi\\anaconda3\\lib\\site-packages (from Flask>=1.1.2->deepface) (2.0.3)\n",
      "Requirement already satisfied: click>=5.1 in c:\\users\\pothi\\anaconda3\\lib\\site-packages (from Flask>=1.1.2->deepface) (8.0.4)\n",
      "Requirement already satisfied: colorama in c:\\users\\pothi\\anaconda3\\lib\\site-packages (from click>=5.1->Flask>=1.1.2->deepface) (0.4.4)\n",
      "Requirement already satisfied: requests[socks] in c:\\users\\pothi\\anaconda3\\lib\\site-packages (from gdown>=3.10.1->deepface) (2.27.1)\n",
      "Requirement already satisfied: beautifulsoup4 in c:\\users\\pothi\\anaconda3\\lib\\site-packages (from gdown>=3.10.1->deepface) (4.11.1)\n",
      "Requirement already satisfied: filelock in c:\\users\\pothi\\anaconda3\\lib\\site-packages (from gdown>=3.10.1->deepface) (3.6.0)\n",
      "Requirement already satisfied: setuptools>=3.0 in c:\\users\\pothi\\anaconda3\\lib\\site-packages (from gunicorn>=20.1.0->deepface) (61.2.0)\n",
      "Requirement already satisfied: MarkupSafe>=0.23 in c:\\users\\pothi\\anaconda3\\lib\\site-packages (from Jinja2>=2.10.1->Flask>=1.1.2->deepface) (2.0.1)\n",
      "Requirement already satisfied: pytz>=2020.1 in c:\\users\\pothi\\anaconda3\\lib\\site-packages (from pandas>=0.23.4->deepface) (2021.3)\n",
      "Requirement already satisfied: python-dateutil>=2.8.1 in c:\\users\\pothi\\anaconda3\\lib\\site-packages (from pandas>=0.23.4->deepface) (2.8.2)\n",
      "Collecting tensorflow-intel==2.12.0\n",
      "  Downloading tensorflow_intel-2.12.0-cp39-cp39-win_amd64.whl (272.8 MB)\n"
     ]
    },
    {
     "name": "stderr",
     "output_type": "stream",
     "text": [
      "Traceback (most recent call last):\n",
      "  File \"C:\\Users\\pothi\\anaconda3\\lib\\site-packages\\pip\\_internal\\cli\\base_command.py\", line 173, in _main\n",
      "    status = self.run(options, args)\n",
      "  File \"C:\\Users\\pothi\\anaconda3\\lib\\site-packages\\pip\\_internal\\cli\\req_command.py\", line 203, in wrapper\n",
      "    return func(self, options, args)\n",
      "  File \"C:\\Users\\pothi\\anaconda3\\lib\\site-packages\\pip\\_internal\\commands\\install.py\", line 315, in run\n",
      "    requirement_set = resolver.resolve(\n",
      "  File \"C:\\Users\\pothi\\anaconda3\\lib\\site-packages\\pip\\_internal\\resolution\\resolvelib\\resolver.py\", line 94, in resolve\n",
      "    result = self._result = resolver.resolve(\n",
      "  File \"C:\\Users\\pothi\\anaconda3\\lib\\site-packages\\pip\\_vendor\\resolvelib\\resolvers.py\", line 472, in resolve\n",
      "    state = resolution.resolve(requirements, max_rounds=max_rounds)\n",
      "  File \"C:\\Users\\pothi\\anaconda3\\lib\\site-packages\\pip\\_vendor\\resolvelib\\resolvers.py\", line 366, in resolve\n",
      "    failure_causes = self._attempt_to_pin_criterion(name)\n",
      "  File \"C:\\Users\\pothi\\anaconda3\\lib\\site-packages\\pip\\_vendor\\resolvelib\\resolvers.py\", line 212, in _attempt_to_pin_criterion\n",
      "    criteria = self._get_updated_criteria(candidate)\n",
      "  File \"C:\\Users\\pothi\\anaconda3\\lib\\site-packages\\pip\\_vendor\\resolvelib\\resolvers.py\", line 203, in _get_updated_criteria\n",
      "    self._add_to_criteria(criteria, requirement, parent=candidate)\n",
      "  File \"C:\\Users\\pothi\\anaconda3\\lib\\site-packages\\pip\\_vendor\\resolvelib\\resolvers.py\", line 172, in _add_to_criteria\n",
      "    if not criterion.candidates:\n"
     ]
    }
   ],
   "source": [
    "!pip install deepface\n"
   ]
  },
  {
   "cell_type": "code",
   "execution_count": 3,
   "id": "f02ead79",
   "metadata": {},
   "outputs": [
    {
     "name": "stderr",
     "output_type": "stream",
     "text": [
      "  File \"C:\\Users\\pothi\\anaconda3\\lib\\site-packages\\pip\\_vendor\\resolvelib\\structs.py\", line 151, in __bool__\n",
      "    return bool(self._sequence)\n",
      "  File \"C:\\Users\\pothi\\anaconda3\\lib\\site-packages\\pip\\_internal\\resolution\\resolvelib\\found_candidates.py\", line 140, in __bool__\n",
      "    return any(self)\n",
      "  File \"C:\\Users\\pothi\\anaconda3\\lib\\site-packages\\pip\\_internal\\resolution\\resolvelib\\found_candidates.py\", line 128, in <genexpr>\n",
      "    return (c for c in iterator if id(c) not in self._incompatible_ids)\n",
      "  File \"C:\\Users\\pothi\\anaconda3\\lib\\site-packages\\pip\\_internal\\resolution\\resolvelib\\found_candidates.py\", line 32, in _iter_built\n",
      "    candidate = func()\n",
      "  File \"C:\\Users\\pothi\\anaconda3\\lib\\site-packages\\pip\\_internal\\resolution\\resolvelib\\factory.py\", line 204, in _make_candidate_from_link\n",
      "    self._link_candidate_cache[link] = LinkCandidate(\n",
      "  File \"C:\\Users\\pothi\\anaconda3\\lib\\site-packages\\pip\\_internal\\resolution\\resolvelib\\candidates.py\", line 295, in __init__\n",
      "    super().__init__(\n",
      "  File \"C:\\Users\\pothi\\anaconda3\\lib\\site-packages\\pip\\_internal\\resolution\\resolvelib\\candidates.py\", line 156, in __init__\n",
      "    self.dist = self._prepare()\n",
      "  File \"C:\\Users\\pothi\\anaconda3\\lib\\site-packages\\pip\\_internal\\resolution\\resolvelib\\candidates.py\", line 227, in _prepare\n",
      "    dist = self._prepare_distribution()\n",
      "  File \"C:\\Users\\pothi\\anaconda3\\lib\\site-packages\\pip\\_internal\\resolution\\resolvelib\\candidates.py\", line 305, in _prepare_distribution\n",
      "    return self._factory.preparer.prepare_linked_requirement(\n",
      "  File \"C:\\Users\\pothi\\anaconda3\\lib\\site-packages\\pip\\_internal\\operations\\prepare.py\", line 508, in prepare_linked_requirement\n",
      "    return self._prepare_linked_requirement(req, parallel_builds)\n",
      "  File \"C:\\Users\\pothi\\anaconda3\\lib\\site-packages\\pip\\_internal\\operations\\prepare.py\", line 550, in _prepare_linked_requirement\n",
      "    local_file = unpack_url(\n",
      "  File \"C:\\Users\\pothi\\anaconda3\\lib\\site-packages\\pip\\_internal\\operations\\prepare.py\", line 239, in unpack_url\n",
      "    file = get_http_url(\n",
      "  File \"C:\\Users\\pothi\\anaconda3\\lib\\site-packages\\pip\\_internal\\operations\\prepare.py\", line 102, in get_http_url\n",
      "    from_path, content_type = download(link, temp_dir.path)\n",
      "  File \"C:\\Users\\pothi\\anaconda3\\lib\\site-packages\\pip\\_internal\\network\\download.py\", line 145, in __call__\n",
      "    for chunk in chunks:\n",
      "  File \"C:\\Users\\pothi\\anaconda3\\lib\\site-packages\\pip\\_internal\\cli\\progress_bars.py\", line 144, in iter\n",
      "    for x in it:\n",
      "  File \"C:\\Users\\pothi\\anaconda3\\lib\\site-packages\\pip\\_internal\\network\\utils.py\", line 63, in response_chunks\n",
      "    for chunk in response.raw.stream(\n",
      "  File \"C:\\Users\\pothi\\anaconda3\\lib\\site-packages\\pip\\_vendor\\urllib3\\response.py\", line 576, in stream\n",
      "    data = self.read(amt=amt, decode_content=decode_content)\n",
      "  File \"C:\\Users\\pothi\\anaconda3\\lib\\site-packages\\pip\\_vendor\\urllib3\\response.py\", line 541, in read\n",
      "    raise IncompleteRead(self._fp_bytes_read, self.length_remaining)\n",
      "  File \"C:\\Users\\pothi\\anaconda3\\lib\\contextlib.py\", line 137, in __exit__\n",
      "    self.gen.throw(typ, value, traceback)\n",
      "  File \"C:\\Users\\pothi\\anaconda3\\lib\\site-packages\\pip\\_vendor\\urllib3\\response.py\", line 455, in _error_catcher\n",
      "    raise ProtocolError(\"Connection broken: %r\" % e, e)\n",
      "pip._vendor.urllib3.exceptions.ProtocolError: (\"Connection broken: ConnectionResetError(10054, 'An existing connection was forcibly closed by the remote host', None, 10054, None)\", ConnectionResetError(10054, 'An existing connection was forcibly closed by the remote host', None, 10054, None))\n",
      "WARNING: Retrying (Retry(total=4, connect=None, read=None, redirect=None, status=None)) after connection broken by 'NewConnectionError('<pip._vendor.urllib3.connection.HTTPSConnection object at 0x0000026BA2DF4070>: Failed to establish a new connection: [Errno 11001] getaddrinfo failed')': /simple/keras/\n",
      "WARNING: Retrying (Retry(total=3, connect=None, read=None, redirect=None, status=None)) after connection broken by 'NewConnectionError('<pip._vendor.urllib3.connection.HTTPSConnection object at 0x0000026BA2DF43A0>: Failed to establish a new connection: [Errno 11001] getaddrinfo failed')': /simple/keras/\n",
      "WARNING: Retrying (Retry(total=2, connect=None, read=None, redirect=None, status=None)) after connection broken by 'NewConnectionError('<pip._vendor.urllib3.connection.HTTPSConnection object at 0x0000026BA2DF4040>: Failed to establish a new connection: [Errno 11001] getaddrinfo failed')': /simple/keras/\n",
      "WARNING: Retrying (Retry(total=1, connect=None, read=None, redirect=None, status=None)) after connection broken by 'NewConnectionError('<pip._vendor.urllib3.connection.HTTPSConnection object at 0x0000026BA2DF4CA0>: Failed to establish a new connection: [Errno 11001] getaddrinfo failed')': /simple/keras/\n",
      "WARNING: Retrying (Retry(total=0, connect=None, read=None, redirect=None, status=None)) after connection broken by 'NewConnectionError('<pip._vendor.urllib3.connection.HTTPSConnection object at 0x0000026BA2DF4E80>: Failed to establish a new connection: [Errno 11001] getaddrinfo failed')': /simple/keras/\n",
      "ERROR: Could not find a version that satisfies the requirement keras (from versions: none)\n",
      "ERROR: No matching distribution found for keras\n"
     ]
    }
   ],
   "source": [
    "!pip install keras"
   ]
  },
  {
   "cell_type": "code",
   "execution_count": 8,
   "id": "f6cdba8b",
   "metadata": {},
   "outputs": [
    {
     "name": "stdout",
     "output_type": "stream",
     "text": [
      "Requirement already satisfied: deepface in c:\\users\\pothi\\anaconda3\\lib\\site-packages (0.0.79)\n",
      "Requirement already satisfied: tqdm>=4.30.0 in c:\\users\\pothi\\anaconda3\\lib\\site-packages (from deepface) (4.64.0)\n",
      "Requirement already satisfied: Pillow>=5.2.0 in c:\\users\\pothi\\anaconda3\\lib\\site-packages (from deepface) (9.0.1)\n",
      "Requirement already satisfied: Flask>=1.1.2 in c:\\users\\pothi\\anaconda3\\lib\\site-packages (from deepface) (1.1.2)\n",
      "Requirement already satisfied: gdown>=3.10.1 in c:\\users\\pothi\\anaconda3\\lib\\site-packages (from deepface) (4.7.1)\n",
      "Requirement already satisfied: mtcnn>=0.1.0 in c:\\users\\pothi\\anaconda3\\lib\\site-packages (from deepface) (0.1.1)\n",
      "Requirement already satisfied: retina-face>=0.0.1 in c:\\users\\pothi\\anaconda3\\lib\\site-packages (from deepface) (0.0.13)\n",
      "Requirement already satisfied: opencv-python>=4.5.5.64 in c:\\users\\pothi\\anaconda3\\lib\\site-packages (from deepface) (4.7.0.72)\n",
      "Requirement already satisfied: numpy>=1.14.0 in c:\\users\\pothi\\anaconda3\\lib\\site-packages (from deepface) (1.22.4)\n",
      "Requirement already satisfied: tensorflow>=1.9.0 in c:\\users\\pothi\\anaconda3\\lib\\site-packages (from deepface) (2.12.0)\n",
      "Requirement already satisfied: keras>=2.2.0 in c:\\users\\pothi\\anaconda3\\lib\\site-packages (from deepface) (2.12.0)\n",
      "Requirement already satisfied: gunicorn>=20.1.0 in c:\\users\\pothi\\anaconda3\\lib\\site-packages (from deepface) (20.1.0)\n",
      "Requirement already satisfied: fire>=0.4.0 in c:\\users\\pothi\\anaconda3\\lib\\site-packages (from deepface) (0.5.0)\n",
      "Requirement already satisfied: pandas>=0.23.4 in c:\\users\\pothi\\anaconda3\\lib\\site-packages (from deepface) (1.4.2)\n",
      "Requirement already satisfied: six in c:\\users\\pothi\\anaconda3\\lib\\site-packages (from fire>=0.4.0->deepface) (1.16.0)\n",
      "Requirement already satisfied: termcolor in c:\\users\\pothi\\anaconda3\\lib\\site-packages (from fire>=0.4.0->deepface) (2.3.0)\n",
      "Requirement already satisfied: Werkzeug>=0.15 in c:\\users\\pothi\\anaconda3\\lib\\site-packages (from Flask>=1.1.2->deepface) (2.0.3)\n",
      "Requirement already satisfied: itsdangerous>=0.24 in c:\\users\\pothi\\anaconda3\\lib\\site-packages (from Flask>=1.1.2->deepface) (2.0.1)\n",
      "Requirement already satisfied: Jinja2>=2.10.1 in c:\\users\\pothi\\anaconda3\\lib\\site-packages (from Flask>=1.1.2->deepface) (2.11.3)\n",
      "Requirement already satisfied: click>=5.1 in c:\\users\\pothi\\anaconda3\\lib\\site-packages (from Flask>=1.1.2->deepface) (8.0.4)\n",
      "Requirement already satisfied: colorama in c:\\users\\pothi\\anaconda3\\lib\\site-packages (from click>=5.1->Flask>=1.1.2->deepface) (0.4.4)\n",
      "Requirement already satisfied: requests[socks] in c:\\users\\pothi\\anaconda3\\lib\\site-packages (from gdown>=3.10.1->deepface) (2.27.1)\n",
      "Requirement already satisfied: beautifulsoup4 in c:\\users\\pothi\\anaconda3\\lib\\site-packages (from gdown>=3.10.1->deepface) (4.11.1)\n",
      "Requirement already satisfied: filelock in c:\\users\\pothi\\anaconda3\\lib\\site-packages (from gdown>=3.10.1->deepface) (3.6.0)\n",
      "Requirement already satisfied: setuptools>=3.0 in c:\\users\\pothi\\anaconda3\\lib\\site-packages (from gunicorn>=20.1.0->deepface) (61.2.0)\n",
      "Requirement already satisfied: MarkupSafe>=0.23 in c:\\users\\pothi\\anaconda3\\lib\\site-packages (from Jinja2>=2.10.1->Flask>=1.1.2->deepface) (2.0.1)\n",
      "Requirement already satisfied: python-dateutil>=2.8.1 in c:\\users\\pothi\\anaconda3\\lib\\site-packages (from pandas>=0.23.4->deepface) (2.8.2)\n",
      "Requirement already satisfied: pytz>=2020.1 in c:\\users\\pothi\\anaconda3\\lib\\site-packages (from pandas>=0.23.4->deepface) (2021.3)\n",
      "Requirement already satisfied: tensorflow-intel==2.12.0 in c:\\users\\pothi\\anaconda3\\lib\\site-packages (from tensorflow>=1.9.0->deepface) (2.12.0)\n",
      "Requirement already satisfied: google-pasta>=0.1.1 in c:\\users\\pothi\\anaconda3\\lib\\site-packages (from tensorflow-intel==2.12.0->tensorflow>=1.9.0->deepface) (0.2.0)\n",
      "Requirement already satisfied: absl-py>=1.0.0 in c:\\users\\pothi\\anaconda3\\lib\\site-packages (from tensorflow-intel==2.12.0->tensorflow>=1.9.0->deepface) (1.4.0)\n",
      "Requirement already satisfied: jax>=0.3.15 in c:\\users\\pothi\\anaconda3\\lib\\site-packages (from tensorflow-intel==2.12.0->tensorflow>=1.9.0->deepface) (0.4.8)\n",
      "Requirement already satisfied: gast<=0.4.0,>=0.2.1 in c:\\users\\pothi\\anaconda3\\lib\\site-packages (from tensorflow-intel==2.12.0->tensorflow>=1.9.0->deepface) (0.4.0)\n",
      "Requirement already satisfied: libclang>=13.0.0 in c:\\users\\pothi\\anaconda3\\lib\\site-packages (from tensorflow-intel==2.12.0->tensorflow>=1.9.0->deepface) (16.0.0)\n",
      "Requirement already satisfied: protobuf!=4.21.0,!=4.21.1,!=4.21.2,!=4.21.3,!=4.21.4,!=4.21.5,<5.0.0dev,>=3.20.3 in c:\\users\\pothi\\anaconda3\\lib\\site-packages (from tensorflow-intel==2.12.0->tensorflow>=1.9.0->deepface) (4.22.4)\n",
      "Requirement already satisfied: wrapt<1.15,>=1.11.0 in c:\\users\\pothi\\anaconda3\\lib\\site-packages (from tensorflow-intel==2.12.0->tensorflow>=1.9.0->deepface) (1.12.1)\n",
      "Requirement already satisfied: opt-einsum>=2.3.2 in c:\\users\\pothi\\anaconda3\\lib\\site-packages (from tensorflow-intel==2.12.0->tensorflow>=1.9.0->deepface) (3.3.0)\n",
      "Requirement already satisfied: tensorflow-estimator<2.13,>=2.12.0 in c:\\users\\pothi\\anaconda3\\lib\\site-packages (from tensorflow-intel==2.12.0->tensorflow>=1.9.0->deepface) (2.12.0)\n",
      "Requirement already satisfied: h5py>=2.9.0 in c:\\users\\pothi\\anaconda3\\lib\\site-packages (from tensorflow-intel==2.12.0->tensorflow>=1.9.0->deepface) (3.6.0)\n",
      "Requirement already satisfied: astunparse>=1.6.0 in c:\\users\\pothi\\anaconda3\\lib\\site-packages (from tensorflow-intel==2.12.0->tensorflow>=1.9.0->deepface) (1.6.3)\n",
      "Requirement already satisfied: tensorflow-io-gcs-filesystem>=0.23.1 in c:\\users\\pothi\\anaconda3\\lib\\site-packages (from tensorflow-intel==2.12.0->tensorflow>=1.9.0->deepface) (0.31.0)\n",
      "Requirement already satisfied: grpcio<2.0,>=1.24.3 in c:\\users\\pothi\\anaconda3\\lib\\site-packages (from tensorflow-intel==2.12.0->tensorflow>=1.9.0->deepface) (1.54.0)\n",
      "Requirement already satisfied: tensorboard<2.13,>=2.12 in c:\\users\\pothi\\anaconda3\\lib\\site-packages (from tensorflow-intel==2.12.0->tensorflow>=1.9.0->deepface) (2.12.3)\n",
      "Requirement already satisfied: flatbuffers>=2.0 in c:\\users\\pothi\\anaconda3\\lib\\site-packages (from tensorflow-intel==2.12.0->tensorflow>=1.9.0->deepface) (23.3.3)\n",
      "Requirement already satisfied: typing-extensions>=3.6.6 in c:\\users\\pothi\\anaconda3\\lib\\site-packages (from tensorflow-intel==2.12.0->tensorflow>=1.9.0->deepface) (4.1.1)\n",
      "Requirement already satisfied: packaging in c:\\users\\pothi\\anaconda3\\lib\\site-packages (from tensorflow-intel==2.12.0->tensorflow>=1.9.0->deepface) (21.3)\n",
      "Requirement already satisfied: wheel<1.0,>=0.23.0 in c:\\users\\pothi\\anaconda3\\lib\\site-packages (from astunparse>=1.6.0->tensorflow-intel==2.12.0->tensorflow>=1.9.0->deepface) (0.37.1)\n",
      "Requirement already satisfied: ml-dtypes>=0.0.3 in c:\\users\\pothi\\anaconda3\\lib\\site-packages (from jax>=0.3.15->tensorflow-intel==2.12.0->tensorflow>=1.9.0->deepface) (0.1.0)\n",
      "Requirement already satisfied: scipy>=1.7 in c:\\users\\pothi\\anaconda3\\lib\\site-packages (from jax>=0.3.15->tensorflow-intel==2.12.0->tensorflow>=1.9.0->deepface) (1.7.3)\n",
      "Requirement already satisfied: google-auth<3,>=1.6.3 in c:\\users\\pothi\\anaconda3\\lib\\site-packages (from tensorboard<2.13,>=2.12->tensorflow-intel==2.12.0->tensorflow>=1.9.0->deepface) (2.17.3)\n",
      "Requirement already satisfied: tensorboard-data-server<0.8.0,>=0.7.0 in c:\\users\\pothi\\anaconda3\\lib\\site-packages (from tensorboard<2.13,>=2.12->tensorflow-intel==2.12.0->tensorflow>=1.9.0->deepface) (0.7.0)\n",
      "Requirement already satisfied: google-auth-oauthlib<1.1,>=0.5 in c:\\users\\pothi\\anaconda3\\lib\\site-packages (from tensorboard<2.13,>=2.12->tensorflow-intel==2.12.0->tensorflow>=1.9.0->deepface) (1.0.0)\n",
      "Requirement already satisfied: markdown>=2.6.8 in c:\\users\\pothi\\anaconda3\\lib\\site-packages (from tensorboard<2.13,>=2.12->tensorflow-intel==2.12.0->tensorflow>=1.9.0->deepface) (3.3.4)\n",
      "Requirement already satisfied: rsa<5,>=3.1.4 in c:\\users\\pothi\\anaconda3\\lib\\site-packages (from google-auth<3,>=1.6.3->tensorboard<2.13,>=2.12->tensorflow-intel==2.12.0->tensorflow>=1.9.0->deepface) (4.7.2)\n",
      "Requirement already satisfied: pyasn1-modules>=0.2.1 in c:\\users\\pothi\\anaconda3\\lib\\site-packages (from google-auth<3,>=1.6.3->tensorboard<2.13,>=2.12->tensorflow-intel==2.12.0->tensorflow>=1.9.0->deepface) (0.2.8)\n",
      "Requirement already satisfied: cachetools<6.0,>=2.0.0 in c:\\users\\pothi\\anaconda3\\lib\\site-packages (from google-auth<3,>=1.6.3->tensorboard<2.13,>=2.12->tensorflow-intel==2.12.0->tensorflow>=1.9.0->deepface) (4.2.2)\n",
      "Requirement already satisfied: requests-oauthlib>=0.7.0 in c:\\users\\pothi\\anaconda3\\lib\\site-packages (from google-auth-oauthlib<1.1,>=0.5->tensorboard<2.13,>=2.12->tensorflow-intel==2.12.0->tensorflow>=1.9.0->deepface) (1.3.1)\n",
      "Requirement already satisfied: pyasn1<0.5.0,>=0.4.6 in c:\\users\\pothi\\anaconda3\\lib\\site-packages (from pyasn1-modules>=0.2.1->google-auth<3,>=1.6.3->tensorboard<2.13,>=2.12->tensorflow-intel==2.12.0->tensorflow>=1.9.0->deepface) (0.4.8)\n",
      "Requirement already satisfied: charset-normalizer~=2.0.0 in c:\\users\\pothi\\anaconda3\\lib\\site-packages (from requests[socks]->gdown>=3.10.1->deepface) (2.0.4)\n",
      "Requirement already satisfied: certifi>=2017.4.17 in c:\\users\\pothi\\anaconda3\\lib\\site-packages (from requests[socks]->gdown>=3.10.1->deepface) (2021.10.8)\n",
      "Requirement already satisfied: urllib3<1.27,>=1.21.1 in c:\\users\\pothi\\anaconda3\\lib\\site-packages (from requests[socks]->gdown>=3.10.1->deepface) (1.26.9)\n",
      "Requirement already satisfied: idna<4,>=2.5 in c:\\users\\pothi\\anaconda3\\lib\\site-packages (from requests[socks]->gdown>=3.10.1->deepface) (3.3)\n",
      "Requirement already satisfied: oauthlib>=3.0.0 in c:\\users\\pothi\\anaconda3\\lib\\site-packages (from requests-oauthlib>=0.7.0->google-auth-oauthlib<1.1,>=0.5->tensorboard<2.13,>=2.12->tensorflow-intel==2.12.0->tensorflow>=1.9.0->deepface) (3.2.2)\n",
      "Requirement already satisfied: soupsieve>1.2 in c:\\users\\pothi\\anaconda3\\lib\\site-packages (from beautifulsoup4->gdown>=3.10.1->deepface) (2.3.1)\n",
      "Requirement already satisfied: pyparsing!=3.0.5,>=2.0.2 in c:\\users\\pothi\\anaconda3\\lib\\site-packages (from packaging->tensorflow-intel==2.12.0->tensorflow>=1.9.0->deepface) (3.0.4)\n",
      "Requirement already satisfied: PySocks!=1.5.7,>=1.5.6 in c:\\users\\pothi\\anaconda3\\lib\\site-packages (from requests[socks]->gdown>=3.10.1->deepface) (1.7.1)\n"
     ]
    }
   ],
   "source": [
    "!pip install deepface"
   ]
  },
  {
   "cell_type": "code",
   "execution_count": 10,
   "id": "8de66706",
   "metadata": {},
   "outputs": [
    {
     "name": "stdout",
     "output_type": "stream",
     "text": [
      "Directory  C:\\Users\\pothi /.deepface created\n",
      "Directory  C:\\Users\\pothi /.deepface/weights created\n"
     ]
    }
   ],
   "source": [
    "from deepface import DeepFace"
   ]
  },
  {
   "cell_type": "code",
   "execution_count": null,
   "id": "a7c7fd74",
   "metadata": {},
   "outputs": [],
   "source": [
    "deepface.verify()"
   ]
  }
 ],
 "metadata": {
  "kernelspec": {
   "display_name": "Python 3 (ipykernel)",
   "language": "python",
   "name": "python3"
  },
  "language_info": {
   "codemirror_mode": {
    "name": "ipython",
    "version": 3
   },
   "file_extension": ".py",
   "mimetype": "text/x-python",
   "name": "python",
   "nbconvert_exporter": "python",
   "pygments_lexer": "ipython3",
   "version": "3.9.12"
  }
 },
 "nbformat": 4,
 "nbformat_minor": 5
}
