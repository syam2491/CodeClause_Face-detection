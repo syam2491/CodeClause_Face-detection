{
 "cells": [
  {
   "cell_type": "code",
   "execution_count": 1,
   "id": "f7e69610",
   "metadata": {},
   "outputs": [],
   "source": [
    "## Face detection through vedio\n",
    "import cv2\n",
    "cascade_classifier = cv2.CascadeClassifier('haarcascades/haarcascade_frontalface_default.xml')\n",
    "cap = cv2.VideoCapture(0)\n",
    "while True:\n",
    "    ret, frame = cap.read()\n",
    "    gray = cv2.cvtColor(frame, cv2.COLOR_BGR2GRAY)\n",
    "    detections = cascade_classifier.detectMultiScale(gray, scaleFactor=1.3, minNeighbors=5)\n",
    "    if len(detections) > 0:\n",
    "        for (x, y, w, h) in detections:\n",
    "            frame = cv2.rectangle(frame, (x, y), (x + w, y + h), (255, 0, 0), 2)\n",
    "            cv2.putText(frame, \"Face detected!\", (x, y - 10), cv2.FONT_HERSHEY_SIMPLEX, 0.5, (0, 255, 0), 2)\n",
    "    cv2.imshow('frame', frame)\n",
    "    key = cv2.waitKey(1) & 0xFF\n",
    "    if key == 27:\n",
    "        break\n",
    "cap.release()\n",
    "cv2.destroyAllWindows()"
   ]
  },
  {
   "cell_type": "code",
   "execution_count": 5,
   "id": "8c1b4497",
   "metadata": {},
   "outputs": [
    {
     "name": "stdout",
     "output_type": "stream",
     "text": [
      "1 faces detected in the image.\n"
     ]
    }
   ],
   "source": [
    "## Face detection from an image \n",
    "import cv2\n",
    "\n",
    "image = cv2.imread(\"Face3.jpg\")  ## Replace the image \n",
    "cv2.imshow(\"Original Image\", image)\n",
    "image_gray = cv2.cvtColor(image, cv2.COLOR_BGR2GRAY)\n",
    "face_cascade = cv2.CascadeClassifier(\"haarcascades/haarcascade_frontalface_default.xml\")\n",
    "faces = face_cascade.detectMultiScale(image_gray, scaleFactor=1.1, minNeighbors=5, minSize=(30, 30))\n",
    "\n",
    "print(f\"{len(faces)} faces detected in the image.\")\n",
    "\n",
    "for (x, y, width, height) in faces:\n",
    "    cv2.rectangle(image, (x, y), (x + width, y + height), (255, 0, 0), 2)\n",
    "    cv2.putText(image, \"Face detected\", (x, y - 10), cv2.FONT_HERSHEY_SIMPLEX, 0.5, (0, 255, 0), 2)\n",
    "\n",
    "cv2.imshow(\"Face Detection\", image)\n",
    "\n",
    "while True:\n",
    "    key = cv2.waitKey(1) & 0xFF\n",
    "    if key == 27:\n",
    "        break\n",
    "\n",
    "cv2.destroyAllWindows()"
   ]
  },
  {
   "cell_type": "code",
   "execution_count": null,
   "id": "9281729a",
   "metadata": {},
   "outputs": [],
   "source": []
  }
 ],
 "metadata": {
  "kernelspec": {
   "display_name": "Python 3 (ipykernel)",
   "language": "python",
   "name": "python3"
  },
  "language_info": {
   "codemirror_mode": {
    "name": "ipython",
    "version": 3
   },
   "file_extension": ".py",
   "mimetype": "text/x-python",
   "name": "python",
   "nbconvert_exporter": "python",
   "pygments_lexer": "ipython3",
   "version": "3.9.12"
  }
 },
 "nbformat": 4,
 "nbformat_minor": 5
}
